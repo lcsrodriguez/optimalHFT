{
 "cells": [
  {
   "cell_type": "markdown",
   "id": "9e3d5431",
   "metadata": {},
   "source": [
    "# Optimal high frequency trading with limit and market orders"
   ]
  },
  {
   "cell_type": "code",
   "execution_count": 73,
   "id": "5a48c844",
   "metadata": {
    "ExecuteTime": {
     "end_time": "2023-04-28T07:50:32.957058Z",
     "start_time": "2023-04-28T07:50:32.950022Z"
    }
   },
   "outputs": [],
   "source": [
    "# Importing necessary modules\n",
    "import pandas as pd\n",
    "import numpy as np\n",
    "import seaborn as sns\n",
    "import matplotlib.pyplot as plt\n",
    "import warnings\n",
    "\n",
    "# Setting default parameters\n",
    "plt.rcParams[\"figure.figsize\"] = [12, 5] # Figure sizes for Matplotlib \n",
    "\n",
    "# Silencing all warnings for a better UX\n",
    "warnings.filterwarnings(\"ignore\")"
   ]
  },
  {
   "cell_type": "code",
   "execution_count": 4,
   "id": "59064a0f",
   "metadata": {
    "ExecuteTime": {
     "end_time": "2023-04-28T07:29:58.852491Z",
     "start_time": "2023-04-28T07:29:58.847253Z"
    }
   },
   "outputs": [],
   "source": [
    "DATA_FOLDER = \"data/tickhistory_sample\""
   ]
  },
  {
   "cell_type": "code",
   "execution_count": 3,
   "id": "b0e28076",
   "metadata": {
    "ExecuteTime": {
     "end_time": "2023-04-28T07:29:29.927185Z",
     "start_time": "2023-04-28T07:29:29.796161Z"
    }
   },
   "outputs": [
    {
     "name": "stdout",
     "output_type": "stream",
     "text": [
      "\u001b[31mGOOG_Quote_2022_01_03.txt\u001b[m\u001b[m        \u001b[31mMSFT_Trade_2022_01_03.txt\u001b[m\u001b[m\r\n",
      "\u001b[31mGOOG_Trade_2022_01_03.txt\u001b[m\u001b[m        \u001b[31mfile_format_details.txt\u001b[m\u001b[m\r\n",
      "\u001b[31mMSFT_Quote_2022_01_03.txt\u001b[m\u001b[m        \u001b[31mtick_history_ticker_coverage.txt\u001b[m\u001b[m\r\n"
     ]
    }
   ],
   "source": [
    "!ls data/tickhistory_sample/"
   ]
  },
  {
   "cell_type": "markdown",
   "id": "2ae9e362",
   "metadata": {},
   "source": [
    "## Imports"
   ]
  },
  {
   "cell_type": "code",
   "execution_count": 45,
   "id": "b29f2b14",
   "metadata": {
    "ExecuteTime": {
     "end_time": "2023-04-28T07:45:08.247377Z",
     "start_time": "2023-04-28T07:45:08.242598Z"
    }
   },
   "outputs": [],
   "source": [
    "TICKER = \"MSFT\""
   ]
  },
  {
   "cell_type": "code",
   "execution_count": 83,
   "id": "3ed68b60",
   "metadata": {
    "ExecuteTime": {
     "end_time": "2023-04-28T08:01:52.560503Z",
     "start_time": "2023-04-28T08:01:52.227853Z"
    }
   },
   "outputs": [
    {
     "data": {
      "text/html": [
       "<div>\n",
       "<style scoped>\n",
       "    .dataframe tbody tr th:only-of-type {\n",
       "        vertical-align: middle;\n",
       "    }\n",
       "\n",
       "    .dataframe tbody tr th {\n",
       "        vertical-align: top;\n",
       "    }\n",
       "\n",
       "    .dataframe thead th {\n",
       "        text-align: right;\n",
       "    }\n",
       "</style>\n",
       "<table border=\"1\" class=\"dataframe\">\n",
       "  <thead>\n",
       "    <tr style=\"text-align: right;\">\n",
       "      <th></th>\n",
       "      <th>price</th>\n",
       "      <th>volume</th>\n",
       "      <th>exchange_code</th>\n",
       "      <th>trade_conditions</th>\n",
       "    </tr>\n",
       "    <tr>\n",
       "      <th>timestamp</th>\n",
       "      <th></th>\n",
       "      <th></th>\n",
       "      <th></th>\n",
       "      <th></th>\n",
       "    </tr>\n",
       "  </thead>\n",
       "  <tbody>\n",
       "    <tr>\n",
       "      <th>2022-01-03 04:00:00.131933</th>\n",
       "      <td>337.0</td>\n",
       "      <td>5</td>\n",
       "      <td>7</td>\n",
       "      <td>E-B</td>\n",
       "    </tr>\n",
       "    <tr>\n",
       "      <th>2022-01-03 04:00:00.133034</th>\n",
       "      <td>337.0</td>\n",
       "      <td>73</td>\n",
       "      <td>7</td>\n",
       "      <td>E-B</td>\n",
       "    </tr>\n",
       "    <tr>\n",
       "      <th>2022-01-03 04:00:00.134199</th>\n",
       "      <td>337.0</td>\n",
       "      <td>6</td>\n",
       "      <td>7</td>\n",
       "      <td>E-B</td>\n",
       "    </tr>\n",
       "    <tr>\n",
       "      <th>2022-01-03 04:00:00.134415</th>\n",
       "      <td>337.5</td>\n",
       "      <td>2</td>\n",
       "      <td>7</td>\n",
       "      <td>E-B</td>\n",
       "    </tr>\n",
       "    <tr>\n",
       "      <th>2022-01-03 04:00:00.134422</th>\n",
       "      <td>338.0</td>\n",
       "      <td>10</td>\n",
       "      <td>7</td>\n",
       "      <td>E-B</td>\n",
       "    </tr>\n",
       "  </tbody>\n",
       "</table>\n",
       "</div>"
      ],
      "text/plain": [
       "                            price  volume  exchange_code trade_conditions\n",
       "timestamp                                                                \n",
       "2022-01-03 04:00:00.131933  337.0       5              7              E-B\n",
       "2022-01-03 04:00:00.133034  337.0      73              7              E-B\n",
       "2022-01-03 04:00:00.134199  337.0       6              7              E-B\n",
       "2022-01-03 04:00:00.134415  337.5       2              7              E-B\n",
       "2022-01-03 04:00:00.134422  338.0      10              7              E-B"
      ]
     },
     "execution_count": 83,
     "metadata": {},
     "output_type": "execute_result"
    }
   ],
   "source": [
    "# Importing trades dataset\n",
    "trades = pd.read_csv(filepath_or_buffer=f\"{DATA_FOLDER}/{TICKER}_Trade_2022_01_03.txt\", \n",
    "            names=[\"timestamp\", \"price\", \"volume\", \"exchange_code\", \"trade_conditions\"], \n",
    "            index_col=\"timestamp\", \n",
    "            na_values=np.NaN\n",
    "           )\n",
    "trades.head()"
   ]
  },
  {
   "cell_type": "code",
   "execution_count": 90,
   "id": "b1b7310b",
   "metadata": {
    "ExecuteTime": {
     "end_time": "2023-04-28T08:03:16.865656Z",
     "start_time": "2023-04-28T08:03:16.847814Z"
    }
   },
   "outputs": [],
   "source": [
    "# Save as LaTeX table for report\n",
    "#trades.iloc[:10].to_latex(\"out/trades.tex\")"
   ]
  },
  {
   "cell_type": "code",
   "execution_count": 47,
   "id": "71d20a22",
   "metadata": {
    "ExecuteTime": {
     "end_time": "2023-04-28T07:45:09.192207Z",
     "start_time": "2023-04-28T07:45:09.142448Z"
    }
   },
   "outputs": [
    {
     "name": "stdout",
     "output_type": "stream",
     "text": [
      "<class 'pandas.core.frame.DataFrame'>\n",
      "Index: 373674 entries, 2022-01-03 04:00:00.131933 to 2022-01-03 19:59:44.780958\n",
      "Data columns (total 4 columns):\n",
      " #   Column            Non-Null Count   Dtype  \n",
      "---  ------            --------------   -----  \n",
      " 0   price             373674 non-null  float64\n",
      " 1   volume            373674 non-null  int64  \n",
      " 2   exchange_code     373674 non-null  int64  \n",
      " 3   trade_conditions  319681 non-null  object \n",
      "dtypes: float64(1), int64(2), object(1)\n",
      "memory usage: 14.3+ MB\n"
     ]
    }
   ],
   "source": [
    "trades.info()"
   ]
  },
  {
   "cell_type": "markdown",
   "id": "8daec03e",
   "metadata": {},
   "source": [
    "**Structure**:\n",
    "- **`timestamp`**\n",
    "- **`price`**\n",
    "- **`volume`**\n",
    "- **`exchange_code`**\n",
    "- **`trade_conditions`**"
   ]
  },
  {
   "cell_type": "code",
   "execution_count": 91,
   "id": "3886f83f",
   "metadata": {
    "ExecuteTime": {
     "end_time": "2023-04-28T08:03:36.223016Z",
     "start_time": "2023-04-28T08:03:35.928679Z"
    }
   },
   "outputs": [
    {
     "data": {
      "text/html": [
       "<div>\n",
       "<style scoped>\n",
       "    .dataframe tbody tr th:only-of-type {\n",
       "        vertical-align: middle;\n",
       "    }\n",
       "\n",
       "    .dataframe tbody tr th {\n",
       "        vertical-align: top;\n",
       "    }\n",
       "\n",
       "    .dataframe thead th {\n",
       "        text-align: right;\n",
       "    }\n",
       "</style>\n",
       "<table border=\"1\" class=\"dataframe\">\n",
       "  <thead>\n",
       "    <tr style=\"text-align: right;\">\n",
       "      <th></th>\n",
       "      <th>bp</th>\n",
       "      <th>bq</th>\n",
       "      <th>be</th>\n",
       "      <th>ap</th>\n",
       "      <th>aq</th>\n",
       "      <th>ae</th>\n",
       "    </tr>\n",
       "    <tr>\n",
       "      <th>timestamp</th>\n",
       "      <th></th>\n",
       "      <th></th>\n",
       "      <th></th>\n",
       "      <th></th>\n",
       "      <th></th>\n",
       "      <th></th>\n",
       "    </tr>\n",
       "  </thead>\n",
       "  <tbody>\n",
       "    <tr>\n",
       "      <th>2022-01-03 04:00:00.131</th>\n",
       "      <td>337.00</td>\n",
       "      <td>100</td>\n",
       "      <td>7</td>\n",
       "      <td>338.23</td>\n",
       "      <td>100</td>\n",
       "      <td>8</td>\n",
       "    </tr>\n",
       "    <tr>\n",
       "      <th>2022-01-03 04:00:00.133</th>\n",
       "      <td>336.51</td>\n",
       "      <td>100</td>\n",
       "      <td>8</td>\n",
       "      <td>338.23</td>\n",
       "      <td>100</td>\n",
       "      <td>8</td>\n",
       "    </tr>\n",
       "    <tr>\n",
       "      <th>2022-01-03 04:00:00.134</th>\n",
       "      <td>338.00</td>\n",
       "      <td>700</td>\n",
       "      <td>7</td>\n",
       "      <td>338.23</td>\n",
       "      <td>100</td>\n",
       "      <td>8</td>\n",
       "    </tr>\n",
       "    <tr>\n",
       "      <th>2022-01-03 04:00:00.135</th>\n",
       "      <td>338.00</td>\n",
       "      <td>500</td>\n",
       "      <td>7</td>\n",
       "      <td>338.23</td>\n",
       "      <td>100</td>\n",
       "      <td>8</td>\n",
       "    </tr>\n",
       "    <tr>\n",
       "      <th>2022-01-03 04:00:00.174</th>\n",
       "      <td>338.00</td>\n",
       "      <td>500</td>\n",
       "      <td>7</td>\n",
       "      <td>338.00</td>\n",
       "      <td>300</td>\n",
       "      <td>8</td>\n",
       "    </tr>\n",
       "  </tbody>\n",
       "</table>\n",
       "</div>"
      ],
      "text/plain": [
       "                             bp   bq  be      ap   aq  ae\n",
       "timestamp                                                \n",
       "2022-01-03 04:00:00.131  337.00  100   7  338.23  100   8\n",
       "2022-01-03 04:00:00.133  336.51  100   8  338.23  100   8\n",
       "2022-01-03 04:00:00.134  338.00  700   7  338.23  100   8\n",
       "2022-01-03 04:00:00.135  338.00  500   7  338.23  100   8\n",
       "2022-01-03 04:00:00.174  338.00  500   7  338.00  300   8"
      ]
     },
     "execution_count": 91,
     "metadata": {},
     "output_type": "execute_result"
    }
   ],
   "source": [
    "# Importing quotes dataset\n",
    "quotes = pd.read_csv(filepath_or_buffer=f\"{DATA_FOLDER}/{TICKER}_Quote_2022_01_03.txt\", \n",
    "            names=[\"timestamp\", \"bp\", \"bq\", \"be\", \"ap\", \"aq\", \"ae\"], \n",
    "            index_col=\"timestamp\", \n",
    "            na_values=np.NaN\n",
    "           )\n",
    "quotes.head()"
   ]
  },
  {
   "cell_type": "code",
   "execution_count": 92,
   "id": "d6bd6ab4",
   "metadata": {
    "ExecuteTime": {
     "end_time": "2023-04-28T08:03:43.199226Z",
     "start_time": "2023-04-28T08:03:43.185574Z"
    }
   },
   "outputs": [],
   "source": [
    "# Save as LaTeX table for report\n",
    "quotes.iloc[:10].to_latex(\"out/quotes.tex\")"
   ]
  },
  {
   "cell_type": "code",
   "execution_count": 49,
   "id": "66b502fb",
   "metadata": {
    "ExecuteTime": {
     "end_time": "2023-04-28T07:45:10.196922Z",
     "start_time": "2023-04-28T07:45:10.186717Z"
    }
   },
   "outputs": [
    {
     "name": "stdout",
     "output_type": "stream",
     "text": [
      "<class 'pandas.core.frame.DataFrame'>\n",
      "Index: 353821 entries, 2022-01-03 04:00:00.131 to 2022-01-03 19:54:56.091\n",
      "Data columns (total 6 columns):\n",
      " #   Column  Non-Null Count   Dtype  \n",
      "---  ------  --------------   -----  \n",
      " 0   bp      353821 non-null  float64\n",
      " 1   bq      353821 non-null  int64  \n",
      " 2   be      353821 non-null  int64  \n",
      " 3   ap      353821 non-null  float64\n",
      " 4   aq      353821 non-null  int64  \n",
      " 5   ae      353821 non-null  int64  \n",
      "dtypes: float64(2), int64(4)\n",
      "memory usage: 18.9+ MB\n"
     ]
    }
   ],
   "source": [
    "quotes.info()"
   ]
  },
  {
   "cell_type": "markdown",
   "id": "8581b888",
   "metadata": {},
   "source": [
    "**Structure**:\n",
    "- **`timestamp`**\n",
    "- **`bp`**: best bid price $\\leadsto b(t)$\n",
    "- **`bq`**: best bid volume (quantity/size)\n",
    "- **`be`**: best bid exchange code\n",
    "- **`ap`**: best ask price $\\leadsto a(t)$\n",
    "- **`aq`**: best ask volume (quantity/size)\n",
    "- **`ae`**: best ask exchange code"
   ]
  },
  {
   "cell_type": "code",
   "execution_count": 50,
   "id": "53e4231d",
   "metadata": {
    "ExecuteTime": {
     "end_time": "2023-04-28T07:45:10.899276Z",
     "start_time": "2023-04-28T07:45:10.894581Z"
    }
   },
   "outputs": [],
   "source": [
    "# Selection of most relevant columns to \"reconstruct\" the LOB\n",
    "L1_COLUMNS = [\"bq\", \"bp\", \"aq\", \"ap\"]"
   ]
  },
  {
   "cell_type": "code",
   "execution_count": 51,
   "id": "7f0e5cad",
   "metadata": {
    "ExecuteTime": {
     "end_time": "2023-04-28T07:45:11.392135Z",
     "start_time": "2023-04-28T07:45:11.376112Z"
    }
   },
   "outputs": [
    {
     "data": {
      "text/html": [
       "<div>\n",
       "<style scoped>\n",
       "    .dataframe tbody tr th:only-of-type {\n",
       "        vertical-align: middle;\n",
       "    }\n",
       "\n",
       "    .dataframe tbody tr th {\n",
       "        vertical-align: top;\n",
       "    }\n",
       "\n",
       "    .dataframe thead th {\n",
       "        text-align: right;\n",
       "    }\n",
       "</style>\n",
       "<table border=\"1\" class=\"dataframe\">\n",
       "  <thead>\n",
       "    <tr style=\"text-align: right;\">\n",
       "      <th></th>\n",
       "      <th>bq</th>\n",
       "      <th>bp</th>\n",
       "      <th>aq</th>\n",
       "      <th>ap</th>\n",
       "    </tr>\n",
       "    <tr>\n",
       "      <th>timestamp</th>\n",
       "      <th></th>\n",
       "      <th></th>\n",
       "      <th></th>\n",
       "      <th></th>\n",
       "    </tr>\n",
       "  </thead>\n",
       "  <tbody>\n",
       "    <tr>\n",
       "      <th>2022-01-03 04:00:00.131</th>\n",
       "      <td>100</td>\n",
       "      <td>337.00</td>\n",
       "      <td>100</td>\n",
       "      <td>338.23</td>\n",
       "    </tr>\n",
       "    <tr>\n",
       "      <th>2022-01-03 04:00:00.133</th>\n",
       "      <td>100</td>\n",
       "      <td>336.51</td>\n",
       "      <td>100</td>\n",
       "      <td>338.23</td>\n",
       "    </tr>\n",
       "    <tr>\n",
       "      <th>2022-01-03 04:00:00.134</th>\n",
       "      <td>700</td>\n",
       "      <td>338.00</td>\n",
       "      <td>100</td>\n",
       "      <td>338.23</td>\n",
       "    </tr>\n",
       "    <tr>\n",
       "      <th>2022-01-03 04:00:00.135</th>\n",
       "      <td>500</td>\n",
       "      <td>338.00</td>\n",
       "      <td>100</td>\n",
       "      <td>338.23</td>\n",
       "    </tr>\n",
       "    <tr>\n",
       "      <th>2022-01-03 04:00:00.174</th>\n",
       "      <td>500</td>\n",
       "      <td>338.00</td>\n",
       "      <td>300</td>\n",
       "      <td>338.00</td>\n",
       "    </tr>\n",
       "  </tbody>\n",
       "</table>\n",
       "</div>"
      ],
      "text/plain": [
       "                          bq      bp   aq      ap\n",
       "timestamp                                        \n",
       "2022-01-03 04:00:00.131  100  337.00  100  338.23\n",
       "2022-01-03 04:00:00.133  100  336.51  100  338.23\n",
       "2022-01-03 04:00:00.134  700  338.00  100  338.23\n",
       "2022-01-03 04:00:00.135  500  338.00  100  338.23\n",
       "2022-01-03 04:00:00.174  500  338.00  300  338.00"
      ]
     },
     "execution_count": 51,
     "metadata": {},
     "output_type": "execute_result"
    }
   ],
   "source": [
    "quotes[L1_COLUMNS].head()"
   ]
  },
  {
   "cell_type": "markdown",
   "id": "b72037e0",
   "metadata": {},
   "source": [
    "## Computations"
   ]
  },
  {
   "cell_type": "code",
   "execution_count": 52,
   "id": "0f7a9b11",
   "metadata": {
    "ExecuteTime": {
     "end_time": "2023-04-28T07:45:14.707819Z",
     "start_time": "2023-04-28T07:45:14.694289Z"
    }
   },
   "outputs": [],
   "source": [
    "data = quotes[L1_COLUMNS]"
   ]
  },
  {
   "cell_type": "code",
   "execution_count": 53,
   "id": "fbd4ea5c",
   "metadata": {
    "ExecuteTime": {
     "end_time": "2023-04-28T07:45:14.984139Z",
     "start_time": "2023-04-28T07:45:14.977305Z"
    }
   },
   "outputs": [],
   "source": [
    "mid_price = (1/2)*(data[\"bp\"] + data[\"ap\"])"
   ]
  },
  {
   "cell_type": "code",
   "execution_count": 82,
   "id": "b69ebb9c",
   "metadata": {
    "ExecuteTime": {
     "end_time": "2023-04-28T07:55:24.487653Z",
     "start_time": "2023-04-28T07:55:24.212642Z"
    }
   },
   "outputs": [
    {
     "data": {
      "image/png": "[encoded data removed]",
      "text/plain": [
       "<Figure size 1200x500 with 1 Axes>"
      ]
     },
     "metadata": {},
     "output_type": "display_data"
    }
   ],
   "source": [
    "# data={\"a\": data[\"ap\"], \"b\": data[\"bp\"], \"m\": mid_price}\n",
    "_ = mid_price.plot(color=\"blue\", rot=25, label=\"Mid price\")\n",
    "_ = plt.grid()\n",
    "_ = plt.xlabel(\"Date/Time\")\n",
    "_ = plt.ylabel(\"Mid-price\")\n",
    "\n",
    "# Adding relevant horizontal lines\n",
    "_ = plt.axhline(y = mid_price.mean(), color=\"red\", ls=\"--\", label=\"Avg. mid price\")\n",
    "_ = plt.axhline(y = mid_price.min(), color=\"green\", ls=\"-.\", label=\"Min mid price\")\n",
    "_ = plt.axhline(y = mid_price.max(), color=\"magenta\", ls=\"-.\", label=\"Max mid price\")\n",
    "\n",
    "_ = plt.legend(loc=\"upper right\")\n",
    "_ = plt.title(f\"Evolution of mid price over time for January 3, 2022 - {TICKER}\")"
   ]
  },
  {
   "cell_type": "markdown",
   "id": "bf3a9957",
   "metadata": {},
   "source": [
    "## Calibration"
   ]
  },
  {
   "cell_type": "code",
   "execution_count": null,
   "id": "f90618c4",
   "metadata": {},
   "outputs": [],
   "source": []
  }
 ],
 "metadata": {
  "kernelspec": {
   "display_name": "Python 3 (ipykernel)",
   "language": "python",
   "name": "python3"
  },
  "language_info": {
   "codemirror_mode": {
    "name": "ipython",
    "version": 3
   },
   "file_extension": ".py",
   "mimetype": "text/x-python",
   "name": "python",
   "nbconvert_exporter": "python",
   "pygments_lexer": "ipython3",
   "version": "3.10.6"
  },
  "toc": {
   "base_numbering": 1,
   "nav_menu": {},
   "number_sections": true,
   "sideBar": true,
   "skip_h1_title": false,
   "title_cell": "Table of Contents",
   "title_sidebar": "Contents",
   "toc_cell": false,
   "toc_position": {},
   "toc_section_display": true,
   "toc_window_display": false
  }
 },
 "nbformat": 4,
 "nbformat_minor": 5
}
