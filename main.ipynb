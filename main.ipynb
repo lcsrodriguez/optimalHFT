{
 "cells": [
  {
   "cell_type": "markdown",
   "id": "9e3d5431",
   "metadata": {},
   "source": [
    "# Optimal high frequency trading with limit and market orders"
   ]
  },
  {
   "cell_type": "code",
   "execution_count": 1,
   "id": "5a48c844",
   "metadata": {
    "ExecuteTime": {
     "end_time": "2023-04-28T07:29:28.780927Z",
     "start_time": "2023-04-28T07:29:26.085052Z"
    }
   },
   "outputs": [],
   "source": [
    "# Importing necessary modules\n",
    "import pandas as pd\n",
    "import numpy as np\n",
    "import seaborn as sns\n",
    "import matplotlib.pyplot as plt"
   ]
  },
  {
   "cell_type": "code",
   "execution_count": 4,
   "id": "59064a0f",
   "metadata": {
    "ExecuteTime": {
     "end_time": "2023-04-28T07:29:58.852491Z",
     "start_time": "2023-04-28T07:29:58.847253Z"
    }
   },
   "outputs": [],
   "source": [
    "DATA_FOLDER = \"data/tickhistory_sample\""
   ]
  },
  {
   "cell_type": "code",
   "execution_count": 3,
   "id": "b0e28076",
   "metadata": {
    "ExecuteTime": {
     "end_time": "2023-04-28T07:29:29.927185Z",
     "start_time": "2023-04-28T07:29:29.796161Z"
    }
   },
   "outputs": [
    {
     "name": "stdout",
     "output_type": "stream",
     "text": [
      "\u001b[31mGOOG_Quote_2022_01_03.txt\u001b[m\u001b[m        \u001b[31mMSFT_Trade_2022_01_03.txt\u001b[m\u001b[m\r\n",
      "\u001b[31mGOOG_Trade_2022_01_03.txt\u001b[m\u001b[m        \u001b[31mfile_format_details.txt\u001b[m\u001b[m\r\n",
      "\u001b[31mMSFT_Quote_2022_01_03.txt\u001b[m\u001b[m        \u001b[31mtick_history_ticker_coverage.txt\u001b[m\u001b[m\r\n"
     ]
    }
   ],
   "source": [
    "!ls data/tickhistory_sample/"
   ]
  },
  {
   "cell_type": "markdown",
   "id": "52274eb7",
   "metadata": {},
   "source": [
    "## Imports"
   ]
  },
  {
   "cell_type": "code",
   "execution_count": 13,
   "id": "c94a5403",
   "metadata": {
    "ExecuteTime": {
     "end_time": "2023-04-28T07:33:08.983223Z",
     "start_time": "2023-04-28T07:33:08.978581Z"
    }
   },
   "outputs": [],
   "source": [
    "TICKER = \"GOOG\""
   ]
  },
  {
   "cell_type": "code",
   "execution_count": 21,
   "id": "d81986fe",
   "metadata": {
    "ExecuteTime": {
     "end_time": "2023-04-28T07:35:35.859262Z",
     "start_time": "2023-04-28T07:35:35.780137Z"
    }
   },
   "outputs": [
    {
     "data": {
      "text/html": [
       "<div>\n",
       "<style scoped>\n",
       "    .dataframe tbody tr th:only-of-type {\n",
       "        vertical-align: middle;\n",
       "    }\n",
       "\n",
       "    .dataframe tbody tr th {\n",
       "        vertical-align: top;\n",
       "    }\n",
       "\n",
       "    .dataframe thead th {\n",
       "        text-align: right;\n",
       "    }\n",
       "</style>\n",
       "<table border=\"1\" class=\"dataframe\">\n",
       "  <thead>\n",
       "    <tr style=\"text-align: right;\">\n",
       "      <th></th>\n",
       "      <th>price</th>\n",
       "      <th>volume</th>\n",
       "      <th>exchange_code</th>\n",
       "      <th>trade_conditions</th>\n",
       "    </tr>\n",
       "    <tr>\n",
       "      <th>timestamp</th>\n",
       "      <th></th>\n",
       "      <th></th>\n",
       "      <th></th>\n",
       "      <th></th>\n",
       "    </tr>\n",
       "  </thead>\n",
       "  <tbody>\n",
       "    <tr>\n",
       "      <th>2022-01-03 04:00:00.353247</th>\n",
       "      <td>2892.00</td>\n",
       "      <td>1</td>\n",
       "      <td>7</td>\n",
       "      <td>E-B</td>\n",
       "    </tr>\n",
       "    <tr>\n",
       "      <th>2022-01-03 04:00:00.353625</th>\n",
       "      <td>2892.00</td>\n",
       "      <td>1</td>\n",
       "      <td>7</td>\n",
       "      <td>E-B</td>\n",
       "    </tr>\n",
       "    <tr>\n",
       "      <th>2022-01-03 04:00:00.362785</th>\n",
       "      <td>2898.01</td>\n",
       "      <td>1</td>\n",
       "      <td>7</td>\n",
       "      <td>E-B</td>\n",
       "    </tr>\n",
       "    <tr>\n",
       "      <th>2022-01-03 04:00:00.362947</th>\n",
       "      <td>2905.00</td>\n",
       "      <td>1</td>\n",
       "      <td>8</td>\n",
       "      <td>E-B</td>\n",
       "    </tr>\n",
       "    <tr>\n",
       "      <th>2022-01-03 04:00:02.422493</th>\n",
       "      <td>2905.00</td>\n",
       "      <td>4</td>\n",
       "      <td>8</td>\n",
       "      <td>E-B</td>\n",
       "    </tr>\n",
       "  </tbody>\n",
       "</table>\n",
       "</div>"
      ],
      "text/plain": [
       "                              price  volume  exchange_code trade_conditions\n",
       "timestamp                                                                  \n",
       "2022-01-03 04:00:00.353247  2892.00       1              7              E-B\n",
       "2022-01-03 04:00:00.353625  2892.00       1              7              E-B\n",
       "2022-01-03 04:00:00.362785  2898.01       1              7              E-B\n",
       "2022-01-03 04:00:00.362947  2905.00       1              8              E-B\n",
       "2022-01-03 04:00:02.422493  2905.00       4              8              E-B"
      ]
     },
     "execution_count": 21,
     "metadata": {},
     "output_type": "execute_result"
    }
   ],
   "source": [
    "# Importing trades dataset\n",
    "trades = pd.read_csv(filepath_or_buffer=f\"{DATA_FOLDER}/{TICKER}_Trade_2022_01_03.txt\", \n",
    "            names=[\"timestamp\", \"price\", \"volume\", \"exchange_code\", \"trade_conditions\"], \n",
    "            index_col=\"timestamp\", \n",
    "            na_values=np.NaN\n",
    "           )\n",
    "trades.head()"
   ]
  },
  {
   "cell_type": "markdown",
   "id": "5b437cdf",
   "metadata": {},
   "source": [
    "**Structure**:\n",
    "- **`timestamp`**\n",
    "- **`price`**\n",
    "- **`volume`**\n",
    "- **`exchange_code`**\n",
    "- **`trade_conditions`**"
   ]
  },
  {
   "cell_type": "code",
   "execution_count": 22,
   "id": "13db4ed4",
   "metadata": {
    "ExecuteTime": {
     "end_time": "2023-04-28T07:35:40.369837Z",
     "start_time": "2023-04-28T07:35:40.256943Z"
    }
   },
   "outputs": [
    {
     "data": {
      "text/html": [
       "<div>\n",
       "<style scoped>\n",
       "    .dataframe tbody tr th:only-of-type {\n",
       "        vertical-align: middle;\n",
       "    }\n",
       "\n",
       "    .dataframe tbody tr th {\n",
       "        vertical-align: top;\n",
       "    }\n",
       "\n",
       "    .dataframe thead th {\n",
       "        text-align: right;\n",
       "    }\n",
       "</style>\n",
       "<table border=\"1\" class=\"dataframe\">\n",
       "  <thead>\n",
       "    <tr style=\"text-align: right;\">\n",
       "      <th></th>\n",
       "      <th>bp</th>\n",
       "      <th>bq</th>\n",
       "      <th>be</th>\n",
       "      <th>ap</th>\n",
       "      <th>aq</th>\n",
       "      <th>ae</th>\n",
       "    </tr>\n",
       "    <tr>\n",
       "      <th>timestamp</th>\n",
       "      <th></th>\n",
       "      <th></th>\n",
       "      <th></th>\n",
       "      <th></th>\n",
       "      <th></th>\n",
       "      <th></th>\n",
       "    </tr>\n",
       "  </thead>\n",
       "  <tbody>\n",
       "    <tr>\n",
       "      <th>2022-01-03 04:00:00.352</th>\n",
       "      <td>2890.59</td>\n",
       "      <td>100</td>\n",
       "      <td>8</td>\n",
       "      <td>2915.00</td>\n",
       "      <td>100</td>\n",
       "      <td>7</td>\n",
       "    </tr>\n",
       "    <tr>\n",
       "      <th>2022-01-03 04:00:01.220</th>\n",
       "      <td>2890.59</td>\n",
       "      <td>100</td>\n",
       "      <td>8</td>\n",
       "      <td>2917.86</td>\n",
       "      <td>100</td>\n",
       "      <td>8</td>\n",
       "    </tr>\n",
       "    <tr>\n",
       "      <th>2022-01-03 04:05:15.912</th>\n",
       "      <td>2894.21</td>\n",
       "      <td>100</td>\n",
       "      <td>8</td>\n",
       "      <td>2908.70</td>\n",
       "      <td>100</td>\n",
       "      <td>7</td>\n",
       "    </tr>\n",
       "    <tr>\n",
       "      <th>2022-01-03 04:05:15.923</th>\n",
       "      <td>2894.21</td>\n",
       "      <td>100</td>\n",
       "      <td>8</td>\n",
       "      <td>2915.00</td>\n",
       "      <td>100</td>\n",
       "      <td>8</td>\n",
       "    </tr>\n",
       "    <tr>\n",
       "      <th>2022-01-03 04:11:51.703</th>\n",
       "      <td>2895.20</td>\n",
       "      <td>100</td>\n",
       "      <td>1</td>\n",
       "      <td>2915.00</td>\n",
       "      <td>100</td>\n",
       "      <td>8</td>\n",
       "    </tr>\n",
       "  </tbody>\n",
       "</table>\n",
       "</div>"
      ],
      "text/plain": [
       "                              bp   bq  be       ap   aq  ae\n",
       "timestamp                                                  \n",
       "2022-01-03 04:00:00.352  2890.59  100   8  2915.00  100   7\n",
       "2022-01-03 04:00:01.220  2890.59  100   8  2917.86  100   8\n",
       "2022-01-03 04:05:15.912  2894.21  100   8  2908.70  100   7\n",
       "2022-01-03 04:05:15.923  2894.21  100   8  2915.00  100   8\n",
       "2022-01-03 04:11:51.703  2895.20  100   1  2915.00  100   8"
      ]
     },
     "execution_count": 22,
     "metadata": {},
     "output_type": "execute_result"
    }
   ],
   "source": [
    "# Importing quotes dataset\n",
    "quotes = pd.read_csv(filepath_or_buffer=f\"{DATA_FOLDER}/{TICKER}_Quote_2022_01_03.txt\", \n",
    "            names=[\"timestamp\", \"bp\", \"bq\", \"be\", \"ap\", \"aq\", \"ae\"], \n",
    "            index_col=\"timestamp\", \n",
    "            na_values=np.NaN\n",
    "           )\n",
    "quotes.head()"
   ]
  },
  {
   "cell_type": "markdown",
   "id": "49d9c1f7",
   "metadata": {},
   "source": [
    "**Structure**:\n",
    "- **`timestamp`**\n",
    "- **`bp`**: best bid price $\\leadsto b(t)$\n",
    "- **`bq`**: best bid volume (quantity/size)\n",
    "- **`be`**: best bid exchange code\n",
    "- **`ap`**: best ask price $\\leadsto a(t)$\n",
    "- **`aq`**: best ask volume (quantity/size)\n",
    "- **`ae`**: best ask exchange code"
   ]
  },
  {
   "cell_type": "code",
   "execution_count": null,
   "id": "06357f6b",
   "metadata": {},
   "outputs": [],
   "source": []
  }
 ],
 "metadata": {
  "kernelspec": {
   "display_name": "Python 3 (ipykernel)",
   "language": "python",
   "name": "python3"
  },
  "language_info": {
   "codemirror_mode": {
    "name": "ipython",
    "version": 3
   },
   "file_extension": ".py",
   "mimetype": "text/x-python",
   "name": "python",
   "nbconvert_exporter": "python",
   "pygments_lexer": "ipython3",
   "version": "3.10.6"
  },
  "toc": {
   "base_numbering": 1,
   "nav_menu": {},
   "number_sections": true,
   "sideBar": true,
   "skip_h1_title": false,
   "title_cell": "Table of Contents",
   "title_sidebar": "Contents",
   "toc_cell": false,
   "toc_position": {},
   "toc_section_display": true,
   "toc_window_display": false
  }
 },
 "nbformat": 4,
 "nbformat_minor": 5
}
