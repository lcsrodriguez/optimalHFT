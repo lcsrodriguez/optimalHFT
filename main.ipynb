{
 "cells": [
  {
   "cell_type": "markdown",
   "id": "9e3d5431",
   "metadata": {},
   "source": [
    "# Optimal high frequency trading with limit and market orders"
   ]
  },
  {
   "cell_type": "code",
   "execution_count": 1,
   "id": "5a48c844",
   "metadata": {
    "ExecuteTime": {
     "end_time": "2023-04-27T10:23:19.335841Z",
     "start_time": "2023-04-27T10:23:16.708048Z"
    }
   },
   "outputs": [],
   "source": [
    "# Importing necessary modules\n",
    "import pandas as pd\n",
    "import numpy as np\n",
    "import seaborn as sns\n",
    "import matplotlib.pyplot as plt"
   ]
  },
  {
   "cell_type": "code",
   "execution_count": 18,
   "id": "59064a0f",
   "metadata": {
    "ExecuteTime": {
     "end_time": "2023-04-27T10:25:23.460672Z",
     "start_time": "2023-04-27T10:25:23.455819Z"
    }
   },
   "outputs": [],
   "source": [
    "DATA_FOLDER = \"data/tickhistory_sample/\""
   ]
  },
  {
   "cell_type": "code",
   "execution_count": 19,
   "id": "b0e28076",
   "metadata": {
    "ExecuteTime": {
     "end_time": "2023-04-27T10:25:23.872682Z",
     "start_time": "2023-04-27T10:25:23.739176Z"
    }
   },
   "outputs": [
    {
     "name": "stdout",
     "output_type": "stream",
     "text": [
      "\u001b[31mGOOG_Quote_2022_01_03.txt\u001b[m\u001b[m        \u001b[31mMSFT_Trade_2022_01_03.txt\u001b[m\u001b[m\r\n",
      "\u001b[31mGOOG_Trade_2022_01_03.txt\u001b[m\u001b[m        \u001b[31mfile_format_details.txt\u001b[m\u001b[m\r\n",
      "\u001b[31mMSFT_Quote_2022_01_03.txt\u001b[m\u001b[m        \u001b[31mtick_history_ticker_coverage.txt\u001b[m\u001b[m\r\n"
     ]
    }
   ],
   "source": [
    "!ls data/tickhistory_sample/"
   ]
  },
  {
   "cell_type": "code",
   "execution_count": null,
   "id": "69af44a1",
   "metadata": {},
   "outputs": [],
   "source": []
  }
 ],
 "metadata": {
  "kernelspec": {
   "display_name": "Python 3 (ipykernel)",
   "language": "python",
   "name": "python3"
  },
  "language_info": {
   "codemirror_mode": {
    "name": "ipython",
    "version": 3
   },
   "file_extension": ".py",
   "mimetype": "text/x-python",
   "name": "python",
   "nbconvert_exporter": "python",
   "pygments_lexer": "ipython3",
   "version": "3.10.6"
  },
  "toc": {
   "base_numbering": 1,
   "nav_menu": {},
   "number_sections": true,
   "sideBar": true,
   "skip_h1_title": false,
   "title_cell": "Table of Contents",
   "title_sidebar": "Contents",
   "toc_cell": false,
   "toc_position": {},
   "toc_section_display": true,
   "toc_window_display": false
  }
 },
 "nbformat": 4,
 "nbformat_minor": 5
}
